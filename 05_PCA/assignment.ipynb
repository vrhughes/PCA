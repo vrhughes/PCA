{
  "cells": [
    {
      "cell_type": "markdown",
      "metadata": {
        "id": "nSYhcVC3h7kj"
      },
      "source": [
        "## PCA and Text Analysis\n",
        "\n",
        "This assignment involves processing real e-mails, some of which are scams. Some of these scam e-mails have some offensive content. I don't think anything is worse than R-rated, but I just want to warn you that if you start reading the e-mail text, you might read something offensive. If that's a problem, feel free to e-mail me and we can talk about it more or you can skip the assignment.  "
      ]
    },
    {
      "cell_type": "code",
      "source": [
        "! git clone https://www.github.com/vrhughes/PCA"
      ],
      "metadata": {
        "id": "Ld8-sAepktbk",
        "outputId": "edda6656-f5e6-4c8b-a21f-1bb0c67b3f49",
        "colab": {
          "base_uri": "https://localhost:8080/"
        }
      },
      "execution_count": 1,
      "outputs": [
        {
          "output_type": "stream",
          "name": "stdout",
          "text": [
            "Cloning into 'PCA'...\n",
            "warning: redirecting to https://github.com/vrhughes/PCA.git/\n",
            "remote: Enumerating objects: 53, done.\u001b[K\n",
            "remote: Counting objects: 100% (14/14), done.\u001b[K\n",
            "remote: Compressing objects: 100% (9/9), done.\u001b[K\n",
            "remote: Total 53 (delta 8), reused 5 (delta 5), pack-reused 39 (from 1)\u001b[K\n",
            "Receiving objects: 100% (53/53), 2.80 MiB | 3.29 MiB/s, done.\n",
            "Resolving deltas: 100% (13/13), done.\n"
          ]
        }
      ]
    },
    {
      "cell_type": "code",
      "source": [
        "# Import all the stuff :)\n",
        "import numpy as np\n",
        "import pandas as pd\n",
        "import matplotlib.pyplot as plt\n",
        "import seaborn as sns\n",
        "\n",
        "from sklearn.decomposition import PCA\n",
        "from sklearn.linear_model import LinearRegression\n",
        "from sklearn.model_selection import train_test_split\n",
        "from sklearn.metrics import r2_score\n",
        "\n",
        "import pickle\n",
        "from collections import Counter\n",
        "from multiprocessing.pool import Pool"
      ],
      "metadata": {
        "id": "BMc9hG61jp_O"
      },
      "execution_count": 2,
      "outputs": []
    },
    {
      "cell_type": "markdown",
      "metadata": {
        "id": "EtniyEZ2h7kl"
      },
      "source": [
        "### Q1.\n",
        "\n",
        "Open the `Phishing_Email.parquet` data. It is available at `https://data434.s3.us-east-2.amazonaws.com/Phishing_Email.parquet`, and you can download it directly using Pandas by providing that URL: `df = pd.read_parquet('https://data434.s3.us-east-2.amazonaws.com/Phishing_Email.parquet')`.\n",
        "\n",
        "We just want to look at the first step of cleaning text data, so you can get an idea of how it works. The `Email Text` variable contains the actual text of the email and the `Email Type` takes the value `Phishing Email` or `Safe Email`. We want to predict which emails are phishing emails from their contents.\n",
        "\n",
        "Use the `str.split()` method to break the `Phishing Email` values into **tokens**: The individual words or symbols that create text data like emails. Natural Language Processing is primarily about analyzing the frequency and co-occurrence of tokens. Print the results of your split and examine it.\n",
        "\n",
        "In words, how would you clean the tokens and use them to predict whether the email is a phishing scam or not? A short summary of the kinds of tasks you would do and how you would run a predictive algorithm is fine."
      ]
    },
    {
      "cell_type": "code",
      "source": [
        "# Question 1\n",
        "# now reading in the parquet data\n",
        "df = pd.read_parquet('https://data434.s3.us-east-2.amazonaws.com/Phishing_Email.parquet')\n",
        "print(df)"
      ],
      "metadata": {
        "id": "mx7D9A6alvgX",
        "outputId": "ede4529e-41ea-47d4-bbfc-8e98762f33b7",
        "colab": {
          "base_uri": "https://localhost:8080/"
        }
      },
      "execution_count": 5,
      "outputs": [
        {
          "output_type": "stream",
          "name": "stdout",
          "text": [
            "       index  Unnamed: 0                                         Email Text  \\\n",
            "0          0           0  re : 6 . 1100 , disc : uniformitarianism , re ...   \n",
            "1          1           1  the other side of * galicismos * * galicismo *...   \n",
            "2          2           2  re : equistar deal tickets are you still avail...   \n",
            "3          3           3  \\nHello I am your hot lil horny toy.\\n    I am...   \n",
            "4          4           4  software at incredibly low prices ( 86 % lower...   \n",
            "...      ...         ...                                                ...   \n",
            "18629  18645       18646  date a lonely housewife always wanted to date ...   \n",
            "18630  18646       18647  request submitted : access request for anita ....   \n",
            "18631  18647       18648  re : important - prc mtg hi dorn & john , as y...   \n",
            "18632  18648       18649  press clippings - letter on californian utilit...   \n",
            "18633  18649       18650                                              empty   \n",
            "\n",
            "           Email Type  \n",
            "0          Safe Email  \n",
            "1          Safe Email  \n",
            "2          Safe Email  \n",
            "3      Phishing Email  \n",
            "4      Phishing Email  \n",
            "...               ...  \n",
            "18629  Phishing Email  \n",
            "18630      Safe Email  \n",
            "18631      Safe Email  \n",
            "18632      Safe Email  \n",
            "18633  Phishing Email  \n",
            "\n",
            "[18634 rows x 4 columns]\n"
          ]
        }
      ]
    },
    {
      "cell_type": "code",
      "source": [
        "# Question 1\n",
        "# spliting the email values into tokens\n",
        "tokens = df['Email Text'].str.split()\n",
        "\n",
        "tokens.head()"
      ],
      "metadata": {
        "id": "88GDzjHGmhm9",
        "outputId": "0a34b4cc-1a88-4b22-af9f-2379994d38ce",
        "colab": {
          "base_uri": "https://localhost:8080/",
          "height": 241
        }
      },
      "execution_count": 6,
      "outputs": [
        {
          "output_type": "execute_result",
          "data": {
            "text/plain": [
              "0    [re, :, 6, ., 1100, ,, disc, :, uniformitarian...\n",
              "1    [the, other, side, of, *, galicismos, *, *, ga...\n",
              "2    [re, :, equistar, deal, tickets, are, you, sti...\n",
              "3    [Hello, I, am, your, hot, lil, horny, toy., I,...\n",
              "4    [software, at, incredibly, low, prices, (, 86,...\n",
              "Name: Email Text, dtype: object"
            ],
            "text/html": [
              "<div>\n",
              "<style scoped>\n",
              "    .dataframe tbody tr th:only-of-type {\n",
              "        vertical-align: middle;\n",
              "    }\n",
              "\n",
              "    .dataframe tbody tr th {\n",
              "        vertical-align: top;\n",
              "    }\n",
              "\n",
              "    .dataframe thead th {\n",
              "        text-align: right;\n",
              "    }\n",
              "</style>\n",
              "<table border=\"1\" class=\"dataframe\">\n",
              "  <thead>\n",
              "    <tr style=\"text-align: right;\">\n",
              "      <th></th>\n",
              "      <th>Email Text</th>\n",
              "    </tr>\n",
              "  </thead>\n",
              "  <tbody>\n",
              "    <tr>\n",
              "      <th>0</th>\n",
              "      <td>[re, :, 6, ., 1100, ,, disc, :, uniformitarian...</td>\n",
              "    </tr>\n",
              "    <tr>\n",
              "      <th>1</th>\n",
              "      <td>[the, other, side, of, *, galicismos, *, *, ga...</td>\n",
              "    </tr>\n",
              "    <tr>\n",
              "      <th>2</th>\n",
              "      <td>[re, :, equistar, deal, tickets, are, you, sti...</td>\n",
              "    </tr>\n",
              "    <tr>\n",
              "      <th>3</th>\n",
              "      <td>[Hello, I, am, your, hot, lil, horny, toy., I,...</td>\n",
              "    </tr>\n",
              "    <tr>\n",
              "      <th>4</th>\n",
              "      <td>[software, at, incredibly, low, prices, (, 86,...</td>\n",
              "    </tr>\n",
              "  </tbody>\n",
              "</table>\n",
              "</div><br><label><b>dtype:</b> object</label>"
            ]
          },
          "metadata": {},
          "execution_count": 6
        }
      ]
    },
    {
      "cell_type": "code",
      "source": [
        "# Question 1\n",
        "# cleaning the data\n",
        "\n",
        "# remove punctuation from the tokens\n"
      ],
      "metadata": {
        "id": "W0SmLnSooarF"
      },
      "execution_count": null,
      "outputs": []
    },
    {
      "cell_type": "markdown",
      "metadata": {
        "id": "pifmEH5nh7kl"
      },
      "source": [
        "### Q2.\n",
        "\n",
        "I aggregated all the emails into a single vector, and removed the punctuation and very common words (e.g. \"the\"). Run the below code chunk to open it, and use the Counter class to look at the most common words:"
      ]
    },
    {
      "cell_type": "code",
      "execution_count": null,
      "metadata": {
        "id": "IDVERVo4h7kl"
      },
      "outputs": [],
      "source": [
        "with open('all_tokens.pickle', 'rb') as file:\n",
        "    all_tokens = pickle.load(file)\n",
        "\n",
        "from collections import Counter\n",
        "token_count = Counter(all_tokens)\n",
        "token_freq = token_count.most_common()"
      ]
    },
    {
      "cell_type": "markdown",
      "metadata": {
        "id": "upG-0hd1h7km"
      },
      "source": [
        "Plot a histogram of the occurrences of tokens. What do you notice about the frequency of occurrence of different tokens? How does it look?"
      ]
    },
    {
      "cell_type": "markdown",
      "metadata": {
        "id": "FH_HaE5Zh7kn"
      },
      "source": [
        "### Q3.\n",
        "\n",
        "Load `Phishing_clean.parquet`. This is the text from the e-mails broken into the most common 2,711 tokens and one-hot-encoded as features/covariates. So each row is an e-mail, the `Email Type` takes the value 1 if it's a scam and 0 otherwise, and every other column is a word or symbol that occurs in at least 15 e-mails.\n",
        "\n",
        "1. Perform an 80/20 train-test split of the data.\n",
        "2. Run a regression of $y$ on the one-hot-encoded emails. What is the $R^2$ on the test set? On the training set?\n",
        "3. What words have the largest coefficients in absolute value and most strongly influence predictions?"
      ]
    },
    {
      "cell_type": "markdown",
      "metadata": {
        "id": "CWhf2WvDh7kn"
      },
      "source": [
        "### Q4.\n",
        "\n",
        "Take the matrix of one-hot-encoded tokens (the data, less the outcome variable, `Email Type`) and perform a principal components analysis decomposition with two components. Plot the first two principal components in a scatter plot, and hue the points by whether they are a phishing scam or not. Do you notice any patterns?"
      ]
    },
    {
      "cell_type": "markdown",
      "metadata": {
        "id": "eDo4dbV-h7kn"
      },
      "source": [
        "### Q5.\n",
        "\n",
        "Run a linear regression of $y$ on the first 2,610 principal components of $X$. What is the $R^2$ on the training and test sets? (I used cross validation to determine that 2,610 was approximately optimal, but not all 2,711 components.)\n",
        "\n",
        "How does this performance compare to the linear regression?"
      ]
    },
    {
      "cell_type": "markdown",
      "metadata": {
        "id": "f4VP1Sb0h7ko"
      },
      "source": [
        "### Q6.\n",
        "\n",
        "Explain briefly in your own words what the advantage is in using the principal components to run this high-dimensional regression, rather than the original data."
      ]
    }
  ],
  "metadata": {
    "kernelspec": {
      "display_name": ".txt",
      "language": "python",
      "name": "python3"
    },
    "language_info": {
      "codemirror_mode": {
        "name": "ipython",
        "version": 3
      },
      "file_extension": ".py",
      "mimetype": "text/x-python",
      "name": "python",
      "nbconvert_exporter": "python",
      "pygments_lexer": "ipython3",
      "version": "3.10.12"
    },
    "colab": {
      "provenance": []
    }
  },
  "nbformat": 4,
  "nbformat_minor": 0
}